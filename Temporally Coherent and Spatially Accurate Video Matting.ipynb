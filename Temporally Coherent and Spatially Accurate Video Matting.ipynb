{
 "cells": [
  {
   "cell_type": "markdown",
   "metadata": {},
   "source": [
    "# Temporally Coherent and Spatially Accurate Video Matting\n",
    "  \n",
    "虽然这篇文章不是DL做的，但是也是很有参考价值（我瞎猜的，主要Deep automatic portrait image matting引用有这篇文章，看起来还不错准备瞅瞅）"
   ]
  },
  {
   "cell_type": "markdown",
   "metadata": {},
   "source": [
    "这篇文章我最关注的点，是多种传统图像处理方法之间怎么结合的，虽然我现在用了canny+dilate+closed-form，取得了一定的效果，但是对与pixel-based algorithm来说还有很多事情可以做"
   ]
  },
  {
   "cell_type": "markdown",
   "metadata": {},
   "source": [
    "## 1. 方法介绍\n",
    "  \n",
    "这里直接跳到论文第二部分propesed method，本文方法和其他sampling-based方法架构类似。  \n",
    "首先收集一组前景和背景的样本（即子区域），然后选择最佳的$(F,B)$（即能使得后续算法更好处理的一组）。接着使用matting Laplacian方法来精化图层。"
   ]
  },
  {
   "cell_type": "markdown",
   "metadata": {},
   "source": [
    "主要就是在选择最佳的$(F,B)$的目标函数设计中加了时序项（temporal term），而最后也是用了拉普拉斯矩阵做了精化提高精度。"
   ]
  },
  {
   "cell_type": "markdown",
   "metadata": {},
   "source": [
    "<center>![图裂了](img/201.png)</center>"
   ]
  },
  {
   "cell_type": "code",
   "execution_count": null,
   "metadata": {},
   "outputs": [],
   "source": []
  },
  {
   "cell_type": "code",
   "execution_count": null,
   "metadata": {},
   "outputs": [],
   "source": []
  },
  {
   "cell_type": "code",
   "execution_count": null,
   "metadata": {},
   "outputs": [],
   "source": []
  }
 ],
 "metadata": {
  "kernelspec": {
   "display_name": "Python 3",
   "language": "python",
   "name": "python3"
  },
  "language_info": {
   "codemirror_mode": {
    "name": "ipython",
    "version": 3
   },
   "file_extension": ".py",
   "mimetype": "text/x-python",
   "name": "python",
   "nbconvert_exporter": "python",
   "pygments_lexer": "ipython3",
   "version": "3.6.5"
  }
 },
 "nbformat": 4,
 "nbformat_minor": 2
}
