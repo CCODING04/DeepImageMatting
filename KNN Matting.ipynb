{
 "cells": [
  {
   "cell_type": "markdown",
   "metadata": {},
   "source": [
    "# KNN Matting\n",
    "  \n",
    "> Chen Q, Li D, Tang C K. KNN matting[C]// Computer Vision and Pattern Recognition. IEEE, 2012:869-876.\n",
    "\n",
    "为什么看这篇文章呢，因为我也用KNN做过，对比下反思下自己的作法"
   ]
  },
  {
   "cell_type": "code",
   "execution_count": null,
   "metadata": {},
   "outputs": [],
   "source": []
  }
 ],
 "metadata": {
  "kernelspec": {
   "display_name": "Python 3",
   "language": "python",
   "name": "python3"
  },
  "language_info": {
   "codemirror_mode": {
    "name": "ipython",
    "version": 3
   },
   "file_extension": ".py",
   "mimetype": "text/x-python",
   "name": "python",
   "nbconvert_exporter": "python",
   "pygments_lexer": "ipython3",
   "version": "3.6.5"
  }
 },
 "nbformat": 4,
 "nbformat_minor": 2
}
